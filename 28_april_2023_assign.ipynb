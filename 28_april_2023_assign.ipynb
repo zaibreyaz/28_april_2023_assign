{
 "cells": [
  {
   "cell_type": "code",
   "execution_count": null,
   "id": "1e97e763-1dd2-47ef-948b-e045f7ccb34b",
   "metadata": {},
   "outputs": [],
   "source": [
    "\"\"\"Q1. What is hierarchical clustering, and how is it different from other clustering techniques?\n",
    "\n",
    "    Ans: Hierarchical clustering is a clustering technique that creates a hierarchy of clusters by repeatedly merging or splitting \n",
    "         them based on their similarities. It differs from other techniques by providing a tree-like structure of clusters, allowing \n",
    "         for both agglomerative (bottom-up) and divisive (top-down) approaches.\n",
    "\"\"\""
   ]
  },
  {
   "cell_type": "code",
   "execution_count": null,
   "id": "1cd2b952-70d1-4527-9dd2-98db630b5350",
   "metadata": {},
   "outputs": [],
   "source": [
    "\"\"\"Q2. What are the two main types of hierarchical clustering algorithms? Describe each in brief.\n",
    "\n",
    "    Ans: The two main types of hierarchical clustering algorithms are agglomerative and divisive. \n",
    "         Agglomerative clustering starts with each data point as a separate cluster and merges them iteratively based on proximity, \n",
    "         forming a tree-like structure. \n",
    "         Divisive clustering starts with a single cluster and splits it into smaller clusters recursively based on dissimilarity.\n",
    "\"\"\""
   ]
  },
  {
   "cell_type": "code",
   "execution_count": null,
   "id": "97f56846-266b-497a-8bbf-cbe91ec8c9d2",
   "metadata": {},
   "outputs": [],
   "source": [
    "\"\"\"Q3. How do you determine the distance between two clusters in hierarchical clustering, and what are the\n",
    "    common distance metrics used?\n",
    "\n",
    "    Ans: The distance between two clusters in hierarchical clustering is determined using distance metrics such as \n",
    "         Euclidean distance, Manhattan distance. \n",
    "\"\"\""
   ]
  },
  {
   "cell_type": "code",
   "execution_count": null,
   "id": "e0be59b0-bedb-4904-821d-8e653806c8ac",
   "metadata": {},
   "outputs": [],
   "source": [
    "\"\"\"Q4. How do you determine the optimal number of clusters in hierarchical clustering, and what are some common methods used for this purpose?\n",
    "\n",
    "    Ans: The optimal number of clusters in hierarchical clustering can be determined using methods like the dendrogram and the elbow method.\n",
    "\"\"\""
   ]
  },
  {
   "cell_type": "code",
   "execution_count": null,
   "id": "c00b11f3-3b7d-4259-aedf-24f42719adb6",
   "metadata": {},
   "outputs": [],
   "source": [
    "\"\"\"Q5. What are dendrograms in hierarchical clustering, and how are they useful in analyzing the results?\n",
    "\n",
    "    Ans: Dendrograms are visual representations of hierarchical clustering results. They display the hierarchical structure of clusters as \n",
    "         a tree diagram. Dendrograms help analyze the relationship between clusters, identify optimal cluster cuts, and determine the number \n",
    "         of clusters based on the structure of the tree.\n",
    "\"\"\""
   ]
  },
  {
   "cell_type": "code",
   "execution_count": null,
   "id": "537bd422-6486-40ef-a390-484d1388da31",
   "metadata": {},
   "outputs": [],
   "source": [
    "\"\"\"Q6. Can hierarchical clustering be used for both numerical and categorical data? If yes, how are the distance metrics \n",
    "    different for each type of data?\n",
    "\n",
    "    Ans: Yes, hierarchical clustering can be used for both numerical and categorical data. For numerical data, distance metrics \n",
    "         like Euclidean or Manhattan distance are commonly used. For categorical data, distance metrics like Jaccard or Hamming distance, \n",
    "         which measure dissimilarity based on the presence or absence of categories, are often employed.\n",
    "\"\"\""
   ]
  },
  {
   "cell_type": "code",
   "execution_count": null,
   "id": "3310229c-fc88-485f-9bf5-9452bbb9373b",
   "metadata": {},
   "outputs": [],
   "source": [
    "\"\"\"Q7. How can you use hierarchical clustering to identify outliers or anomalies in your data?\n",
    "\n",
    "    Ans: In hierarchical clustering, outliers or anomalies can be identified by examining the clusters at the bottom level of the \n",
    "         dendrogram. Data points that form small, separate clusters or have a significant distance from other clusters can be considered \n",
    "         outliers or anomalies.\n",
    "\"\"\""
   ]
  }
 ],
 "metadata": {
  "kernelspec": {
   "display_name": "Python 3 (ipykernel)",
   "language": "python",
   "name": "python3"
  },
  "language_info": {
   "codemirror_mode": {
    "name": "ipython",
    "version": 3
   },
   "file_extension": ".py",
   "mimetype": "text/x-python",
   "name": "python",
   "nbconvert_exporter": "python",
   "pygments_lexer": "ipython3",
   "version": "3.10.8"
  }
 },
 "nbformat": 4,
 "nbformat_minor": 5
}
